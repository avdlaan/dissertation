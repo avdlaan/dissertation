{
  "nbformat": 4,
  "nbformat_minor": 0,
  "metadata": {
    "colab": {
      "name": "Read Data functions from Data set with Ktrain Question and Answer.ipynb",
      "provenance": [],
      "collapsed_sections": [],
      "mount_file_id": "1-u0IzpJidximFcnO9BPfuu-cIy2CfkqC",
      "authorship_tag": "ABX9TyMSFvonngHh4Gitz1uBf9BT",
      "include_colab_link": true
    },
    "kernelspec": {
      "name": "python3",
      "display_name": "Python 3"
    },
    "language_info": {
      "name": "python"
    },
    "accelerator": "GPU"
  },
  "cells": [
    {
      "cell_type": "markdown",
      "metadata": {
        "id": "view-in-github",
        "colab_type": "text"
      },
      "source": [
        "<a href=\"https://colab.research.google.com/github/avdlaan/dissertation/blob/main/Read_Data_functions_from_Data_set_with_Ktrain_Question_and_Answer.ipynb\" target=\"_parent\"><img src=\"https://colab.research.google.com/assets/colab-badge.svg\" alt=\"Open In Colab\"/></a>"
      ]
    },
    {
      "cell_type": "code",
      "metadata": {
        "id": "Vw66jgoYj263"
      },
      "source": [
        "%%capture\n",
        "!pip3 install ktrain==0.28.2\n",
        "!pip install tensorflow==2.4.1"
      ],
      "execution_count": 10,
      "outputs": []
    },
    {
      "cell_type": "code",
      "metadata": {
        "id": "X3ou7IO1zItb"
      },
      "source": [
        "import numpy as np\n",
        "import pandas as pd \n",
        "import glob\n",
        "import json\n",
        "import math"
      ],
      "execution_count": 11,
      "outputs": []
    },
    {
      "cell_type": "markdown",
      "metadata": {
        "id": "To8gOMt3Zujc"
      },
      "source": [
        "Set the initial imports- for the next step let us iterate the directory."
      ]
    },
    {
      "cell_type": "code",
      "metadata": {
        "id": "VEjw-A2mbZKG",
        "colab": {
          "base_uri": "https://localhost:8080/"
        },
        "outputId": "37401151-b199-44dd-c203-fed23d081bbe"
      },
      "source": [
        "all_json = glob.glob('/content/drive/MyDrive/train/document_parses/json_test/*.json', recursive=True)\n",
        "\n",
        "# let us get the list of articles\n",
        "len(all_json)\n",
        "print(len(all_json))"
      ],
      "execution_count": 12,
      "outputs": [
        {
          "output_type": "stream",
          "name": "stdout",
          "text": [
            "39\n"
          ]
        }
      ]
    },
    {
      "cell_type": "code",
      "metadata": {
        "id": "oC_9DxlpcKkP"
      },
      "source": [
        "class FileReader:\n",
        "    def __init__(self, file_path):\n",
        "        with open(file_path) as file:\n",
        "            content = json.load(file)\n",
        "            self.paper_id = content['paper_id']\n",
        "            self.abstract = []\n",
        "            self.body_text = []\n",
        "            # Abstract\n",
        "            for entry in content['abstract']:\n",
        "                self.abstract.append(entry['text'])\n",
        "            # Body text\n",
        "            for entry in content['body_text']:\n",
        "                self.body_text.append(entry['text'])\n",
        "            self.abstract = '\\n'.join(self.abstract)\n",
        "            self.body_text = '\\n'.join(self.body_text)\n",
        "    def __repr__(self):\n",
        "        return f'{self.paper_id}: {self.abstract[:400]}... {self.body_text[:500]}...'"
      ],
      "execution_count": 13,
      "outputs": []
    },
    {
      "cell_type": "code",
      "metadata": {
        "id": "uui8g4z0dPF0",
        "colab": {
          "base_uri": "https://localhost:8080/"
        },
        "outputId": "5da14b9a-22c6-483b-c933-542ea5fd7873"
      },
      "source": [
        "first_row = FileReader(all_json[0])\n",
        "print(first_row)"
      ],
      "execution_count": 14,
      "outputs": [
        {
          "output_type": "stream",
          "name": "stdout",
          "text": [
            "000a0fc8bbef80410199e690191dc3076a290117: Background: Various transcription factors are involved in the process of mutually exclusive expression and clonal variation of the Plasmodium multigene (var) family. Recent studies revealed that a P. falciparum SWI/SNF-related matrix-associated actin-dependent regulator of chromatin (PfSWIB) might trigger stage-specific programmed cell death (PCD), and was not only crucial for the survival and dev... Plasmodium falciparum, which causes malignant malaria such as cerebral malaria (CM) or pregnancy-associated malaria (PAM) [1, 2] , is the cause of death to 435,000 individuals annually [3] . Plasmodium falciparum erythrocyte membrane protein 1 (PfEMP1), which is encoded by the var gene family comprising approximately 60 members, is the major virulence factor involved in the antigenic variation and clinical pathogenicity of falciparum malaria [4, 5] . It is remarkable that the expression of var f...\n"
          ]
        }
      ]
    },
    {
      "cell_type": "code",
      "metadata": {
        "colab": {
          "base_uri": "https://localhost:8080/"
        },
        "id": "ZovGRWzYikyF",
        "outputId": "94c51e07-cbfc-42d8-9dd7-97ebb56202a5"
      },
      "source": [
        "dict_ = {'paper_id': [], 'abstract': [], 'body_text': []}\n",
        "for idx, entry in enumerate(all_json):\n",
        "    try:\n",
        "        content = FileReader(entry)\n",
        "        if (idx % 1000 == 0):\n",
        "            print(f\"processing {idx} of {len(all_json)} \")\n",
        "        dict_['paper_id'].append(content.paper_id)\n",
        "        dict_['abstract'].append(content.abstract)\n",
        "        dict_['body_text'].append(content.body_text)\n",
        "    except:\n",
        "        pass\n",
        "df_covid = pd.DataFrame(dict_, columns=['paper_id', 'abstract', 'body_text'])\n",
        "#df_covid.head(39)"
      ],
      "execution_count": 15,
      "outputs": [
        {
          "output_type": "stream",
          "name": "stdout",
          "text": [
            "processing 0 of 39 \n"
          ]
        }
      ]
    },
    {
      "cell_type": "code",
      "metadata": {
        "id": "JlLRNlRvqbq9"
      },
      "source": [
        "#df_covid = ae.extract(df_covid.body_text.values, df_covid, [('Covid Recovery?', 'Recovery'),\n",
        "#                                     ('Long Covid signs?','Signs')])\n",
        "#df_covid.head(12)"
      ],
      "execution_count": 16,
      "outputs": []
    },
    {
      "cell_type": "code",
      "metadata": {
        "colab": {
          "base_uri": "https://localhost:8080/",
          "height": 17
        },
        "id": "xAvg51y-kDRO",
        "outputId": "87f5ec78-8199-474b-b5a0-3d29970f54d4"
      },
      "source": [
        "import ktrain\n",
        "from ktrain.text.qa import AnswerExtractor\n",
        "\n",
        "ae = AnswerExtractor()\n",
        "\n",
        "df_covid_output = ae.extract(df_covid.body_text.values, df_covid, [('What proteins make up the Covid Virus?', 'Proteins in Covid')],return_conf=True)\n",
        "\n",
        "df_covid_output.head(39)\n",
        "\n",
        "\n",
        "df_covid_output.to_excel('/content/drive/MyDrive/train/qa_file2.xlsx',sheet_name=\"Sheet1\",startrow=0,startcol=0,merge_cells=True)\n"
      ],
      "execution_count": 18,
      "outputs": [
        {
          "output_type": "display_data",
          "data": {
            "text/plain": [
              "<IPython.core.display.HTML object>"
            ],
            "text/html": [
              "\n",
              "<style>\n",
              "    /* Turns off some styling */\n",
              "    progress {\n",
              "        /* gets rid of default border in Firefox and Opera. */\n",
              "        border: none;\n",
              "        /* Needs to be in here for Safari polyfill so background images work as expected. */\n",
              "        background-size: auto;\n",
              "    }\n",
              "    .progress-bar-interrupted, .progress-bar-interrupted::-webkit-progress-bar {\n",
              "        background: #F44336;\n",
              "    }\n",
              "</style>\n"
            ]
          },
          "metadata": {}
        },
        {
          "output_type": "display_data",
          "data": {
            "text/plain": [
              "<IPython.core.display.HTML object>"
            ],
            "text/html": [
              ""
            ]
          },
          "metadata": {}
        }
      ]
    }
  ]
}